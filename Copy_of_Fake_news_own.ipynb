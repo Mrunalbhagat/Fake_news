{
  "nbformat": 4,
  "nbformat_minor": 0,
  "metadata": {
    "colab": {
      "provenance": []
    },
    "kernelspec": {
      "name": "python3",
      "display_name": "Python 3"
    },
    "language_info": {
      "name": "python"
    }
  },
  "cells": [
    {
      "cell_type": "code",
      "execution_count": null,
      "metadata": {
        "id": "Wq2UsZ8ODqdX"
      },
      "outputs": [],
      "source": [
        "import pandas as pd\n",
        "import numpy as np\n",
        "import matplotlib.pyplot as plt\n",
        "from nltk.corpus import stopwords\n",
        "from nltk.stem.porter import PorterStemmer\n",
        "import re\n",
        "from sklearn.feature_extraction.text import TfidfVectorizer as vectorizer\n",
        "from sklearn.model_selection import train_test_split\n",
        "from sklearn.linear_model import LogisticRegression\n",
        "from sklearn.metrics import accuracy_score"
      ]
    },
    {
      "cell_type": "code",
      "source": [
        "import nltk\n",
        "nltk.download('stopwords')"
      ],
      "metadata": {
        "colab": {
          "base_uri": "https://localhost:8080/"
        },
        "id": "FxoTKARPFbat",
        "outputId": "a114bf8a-c83f-48fb-d1a9-8bb83fc4588c"
      },
      "execution_count": null,
      "outputs": [
        {
          "output_type": "stream",
          "name": "stderr",
          "text": [
            "[nltk_data] Downloading package stopwords to /root/nltk_data...\n",
            "[nltk_data]   Package stopwords is already up-to-date!\n"
          ]
        },
        {
          "output_type": "execute_result",
          "data": {
            "text/plain": [
              "True"
            ]
          },
          "metadata": {},
          "execution_count": 2
        }
      ]
    },
    {
      "cell_type": "code",
      "source": [
        "df = pd.read_csv('/content/FakeNewsNet.csv')"
      ],
      "metadata": {
        "id": "gpg7E_Y4F5oH"
      },
      "execution_count": null,
      "outputs": []
    },
    {
      "cell_type": "code",
      "source": [
        "df"
      ],
      "metadata": {
        "colab": {
          "base_uri": "https://localhost:8080/",
          "height": 423
        },
        "id": "_m64yUB7HEBG",
        "outputId": "5ec88b4f-fdc7-49bd-fbb9-9a89ee3820b0"
      },
      "execution_count": null,
      "outputs": [
        {
          "output_type": "execute_result",
          "data": {
            "text/plain": [
              "                                                   title  \\\n",
              "0      Kandi Burruss Explodes Over Rape Accusation on...   \n",
              "1      People's Choice Awards 2018: The best red carp...   \n",
              "2      Sophia Bush Sends Sweet Birthday Message to 'O...   \n",
              "3      Colombian singer Maluma sparks rumours of inap...   \n",
              "4      Gossip Girl 10 Years Later: How Upper East Sid...   \n",
              "...                                                  ...   \n",
              "23191  Pippa Middleton wedding: In case you missed it...   \n",
              "23192  Zayn Malik & Gigi Hadidâ€™s Shocking Split: Wh...   \n",
              "23193  Jessica Chastain Recalls the Moment Her Mother...   \n",
              "23194  Tristan Thompson Feels \"Dumped\" After KhloÃ© K...   \n",
              "23195  Kelly Clarkson Performs a Medley of Kendrick L...   \n",
              "\n",
              "                                                news_url  \\\n",
              "0      http://toofab.com/2017/05/08/real-housewives-a...   \n",
              "1      https://www.today.com/style/see-people-s-choic...   \n",
              "2      https://www.etonline.com/news/220806_sophia_bu...   \n",
              "3      https://www.dailymail.co.uk/news/article-33655...   \n",
              "4      https://www.zerchoo.com/entertainment/gossip-g...   \n",
              "...                                                  ...   \n",
              "23191  https://www.express.co.uk/news/royal/807049/pi...   \n",
              "23192  hollywoodlife.com/2018/03/13/zayn-malik-gigi-h...   \n",
              "23193  http://www.justjared.com/2018/01/17/jessica-ch...   \n",
              "23194  www.intouchweekly.com/posts/tristan-thompson-f...   \n",
              "23195  https://www.billboard.com/articles/news/bbma/8...   \n",
              "\n",
              "               source_domain  tweet_num  real  \n",
              "0                 toofab.com         42     1  \n",
              "1              www.today.com          0     1  \n",
              "2           www.etonline.com         63     1  \n",
              "3        www.dailymail.co.uk         20     1  \n",
              "4            www.zerchoo.com         38     1  \n",
              "...                      ...        ...   ...  \n",
              "23191      www.express.co.uk         52     1  \n",
              "23192      hollywoodlife.com          7     0  \n",
              "23193      www.justjared.com         26     1  \n",
              "23194  www.intouchweekly.com         24     0  \n",
              "23195      www.billboard.com         85     1  \n",
              "\n",
              "[23196 rows x 5 columns]"
            ],
            "text/html": [
              "\n",
              "  <div id=\"df-0271c7de-25ee-4a71-86e1-68d60eeda429\">\n",
              "    <div class=\"colab-df-container\">\n",
              "      <div>\n",
              "<style scoped>\n",
              "    .dataframe tbody tr th:only-of-type {\n",
              "        vertical-align: middle;\n",
              "    }\n",
              "\n",
              "    .dataframe tbody tr th {\n",
              "        vertical-align: top;\n",
              "    }\n",
              "\n",
              "    .dataframe thead th {\n",
              "        text-align: right;\n",
              "    }\n",
              "</style>\n",
              "<table border=\"1\" class=\"dataframe\">\n",
              "  <thead>\n",
              "    <tr style=\"text-align: right;\">\n",
              "      <th></th>\n",
              "      <th>title</th>\n",
              "      <th>news_url</th>\n",
              "      <th>source_domain</th>\n",
              "      <th>tweet_num</th>\n",
              "      <th>real</th>\n",
              "    </tr>\n",
              "  </thead>\n",
              "  <tbody>\n",
              "    <tr>\n",
              "      <th>0</th>\n",
              "      <td>Kandi Burruss Explodes Over Rape Accusation on...</td>\n",
              "      <td>http://toofab.com/2017/05/08/real-housewives-a...</td>\n",
              "      <td>toofab.com</td>\n",
              "      <td>42</td>\n",
              "      <td>1</td>\n",
              "    </tr>\n",
              "    <tr>\n",
              "      <th>1</th>\n",
              "      <td>People's Choice Awards 2018: The best red carp...</td>\n",
              "      <td>https://www.today.com/style/see-people-s-choic...</td>\n",
              "      <td>www.today.com</td>\n",
              "      <td>0</td>\n",
              "      <td>1</td>\n",
              "    </tr>\n",
              "    <tr>\n",
              "      <th>2</th>\n",
              "      <td>Sophia Bush Sends Sweet Birthday Message to 'O...</td>\n",
              "      <td>https://www.etonline.com/news/220806_sophia_bu...</td>\n",
              "      <td>www.etonline.com</td>\n",
              "      <td>63</td>\n",
              "      <td>1</td>\n",
              "    </tr>\n",
              "    <tr>\n",
              "      <th>3</th>\n",
              "      <td>Colombian singer Maluma sparks rumours of inap...</td>\n",
              "      <td>https://www.dailymail.co.uk/news/article-33655...</td>\n",
              "      <td>www.dailymail.co.uk</td>\n",
              "      <td>20</td>\n",
              "      <td>1</td>\n",
              "    </tr>\n",
              "    <tr>\n",
              "      <th>4</th>\n",
              "      <td>Gossip Girl 10 Years Later: How Upper East Sid...</td>\n",
              "      <td>https://www.zerchoo.com/entertainment/gossip-g...</td>\n",
              "      <td>www.zerchoo.com</td>\n",
              "      <td>38</td>\n",
              "      <td>1</td>\n",
              "    </tr>\n",
              "    <tr>\n",
              "      <th>...</th>\n",
              "      <td>...</td>\n",
              "      <td>...</td>\n",
              "      <td>...</td>\n",
              "      <td>...</td>\n",
              "      <td>...</td>\n",
              "    </tr>\n",
              "    <tr>\n",
              "      <th>23191</th>\n",
              "      <td>Pippa Middleton wedding: In case you missed it...</td>\n",
              "      <td>https://www.express.co.uk/news/royal/807049/pi...</td>\n",
              "      <td>www.express.co.uk</td>\n",
              "      <td>52</td>\n",
              "      <td>1</td>\n",
              "    </tr>\n",
              "    <tr>\n",
              "      <th>23192</th>\n",
              "      <td>Zayn Malik &amp; Gigi Hadidâ€™s Shocking Split: Wh...</td>\n",
              "      <td>hollywoodlife.com/2018/03/13/zayn-malik-gigi-h...</td>\n",
              "      <td>hollywoodlife.com</td>\n",
              "      <td>7</td>\n",
              "      <td>0</td>\n",
              "    </tr>\n",
              "    <tr>\n",
              "      <th>23193</th>\n",
              "      <td>Jessica Chastain Recalls the Moment Her Mother...</td>\n",
              "      <td>http://www.justjared.com/2018/01/17/jessica-ch...</td>\n",
              "      <td>www.justjared.com</td>\n",
              "      <td>26</td>\n",
              "      <td>1</td>\n",
              "    </tr>\n",
              "    <tr>\n",
              "      <th>23194</th>\n",
              "      <td>Tristan Thompson Feels \"Dumped\" After KhloÃ© K...</td>\n",
              "      <td>www.intouchweekly.com/posts/tristan-thompson-f...</td>\n",
              "      <td>www.intouchweekly.com</td>\n",
              "      <td>24</td>\n",
              "      <td>0</td>\n",
              "    </tr>\n",
              "    <tr>\n",
              "      <th>23195</th>\n",
              "      <td>Kelly Clarkson Performs a Medley of Kendrick L...</td>\n",
              "      <td>https://www.billboard.com/articles/news/bbma/8...</td>\n",
              "      <td>www.billboard.com</td>\n",
              "      <td>85</td>\n",
              "      <td>1</td>\n",
              "    </tr>\n",
              "  </tbody>\n",
              "</table>\n",
              "<p>23196 rows × 5 columns</p>\n",
              "</div>\n",
              "      <button class=\"colab-df-convert\" onclick=\"convertToInteractive('df-0271c7de-25ee-4a71-86e1-68d60eeda429')\"\n",
              "              title=\"Convert this dataframe to an interactive table.\"\n",
              "              style=\"display:none;\">\n",
              "        \n",
              "  <svg xmlns=\"http://www.w3.org/2000/svg\" height=\"24px\"viewBox=\"0 0 24 24\"\n",
              "       width=\"24px\">\n",
              "    <path d=\"M0 0h24v24H0V0z\" fill=\"none\"/>\n",
              "    <path d=\"M18.56 5.44l.94 2.06.94-2.06 2.06-.94-2.06-.94-.94-2.06-.94 2.06-2.06.94zm-11 1L8.5 8.5l.94-2.06 2.06-.94-2.06-.94L8.5 2.5l-.94 2.06-2.06.94zm10 10l.94 2.06.94-2.06 2.06-.94-2.06-.94-.94-2.06-.94 2.06-2.06.94z\"/><path d=\"M17.41 7.96l-1.37-1.37c-.4-.4-.92-.59-1.43-.59-.52 0-1.04.2-1.43.59L10.3 9.45l-7.72 7.72c-.78.78-.78 2.05 0 2.83L4 21.41c.39.39.9.59 1.41.59.51 0 1.02-.2 1.41-.59l7.78-7.78 2.81-2.81c.8-.78.8-2.07 0-2.86zM5.41 20L4 18.59l7.72-7.72 1.47 1.35L5.41 20z\"/>\n",
              "  </svg>\n",
              "      </button>\n",
              "      \n",
              "  <style>\n",
              "    .colab-df-container {\n",
              "      display:flex;\n",
              "      flex-wrap:wrap;\n",
              "      gap: 12px;\n",
              "    }\n",
              "\n",
              "    .colab-df-convert {\n",
              "      background-color: #E8F0FE;\n",
              "      border: none;\n",
              "      border-radius: 50%;\n",
              "      cursor: pointer;\n",
              "      display: none;\n",
              "      fill: #1967D2;\n",
              "      height: 32px;\n",
              "      padding: 0 0 0 0;\n",
              "      width: 32px;\n",
              "    }\n",
              "\n",
              "    .colab-df-convert:hover {\n",
              "      background-color: #E2EBFA;\n",
              "      box-shadow: 0px 1px 2px rgba(60, 64, 67, 0.3), 0px 1px 3px 1px rgba(60, 64, 67, 0.15);\n",
              "      fill: #174EA6;\n",
              "    }\n",
              "\n",
              "    [theme=dark] .colab-df-convert {\n",
              "      background-color: #3B4455;\n",
              "      fill: #D2E3FC;\n",
              "    }\n",
              "\n",
              "    [theme=dark] .colab-df-convert:hover {\n",
              "      background-color: #434B5C;\n",
              "      box-shadow: 0px 1px 3px 1px rgba(0, 0, 0, 0.15);\n",
              "      filter: drop-shadow(0px 1px 2px rgba(0, 0, 0, 0.3));\n",
              "      fill: #FFFFFF;\n",
              "    }\n",
              "  </style>\n",
              "\n",
              "      <script>\n",
              "        const buttonEl =\n",
              "          document.querySelector('#df-0271c7de-25ee-4a71-86e1-68d60eeda429 button.colab-df-convert');\n",
              "        buttonEl.style.display =\n",
              "          google.colab.kernel.accessAllowed ? 'block' : 'none';\n",
              "\n",
              "        async function convertToInteractive(key) {\n",
              "          const element = document.querySelector('#df-0271c7de-25ee-4a71-86e1-68d60eeda429');\n",
              "          const dataTable =\n",
              "            await google.colab.kernel.invokeFunction('convertToInteractive',\n",
              "                                                     [key], {});\n",
              "          if (!dataTable) return;\n",
              "\n",
              "          const docLinkHtml = 'Like what you see? Visit the ' +\n",
              "            '<a target=\"_blank\" href=https://colab.research.google.com/notebooks/data_table.ipynb>data table notebook</a>'\n",
              "            + ' to learn more about interactive tables.';\n",
              "          element.innerHTML = '';\n",
              "          dataTable['output_type'] = 'display_data';\n",
              "          await google.colab.output.renderOutput(dataTable, element);\n",
              "          const docLink = document.createElement('div');\n",
              "          docLink.innerHTML = docLinkHtml;\n",
              "          element.appendChild(docLink);\n",
              "        }\n",
              "      </script>\n",
              "    </div>\n",
              "  </div>\n",
              "  "
            ]
          },
          "metadata": {},
          "execution_count": 4
        }
      ]
    },
    {
      "cell_type": "code",
      "source": [
        "df.drop(['news_url'],axis=1,inplace=True)"
      ],
      "metadata": {
        "id": "ZupDebbGQ0af"
      },
      "execution_count": null,
      "outputs": []
    },
    {
      "cell_type": "code",
      "source": [
        "df.isnull().sum()"
      ],
      "metadata": {
        "colab": {
          "base_uri": "https://localhost:8080/"
        },
        "id": "znU0k40ZMreR",
        "outputId": "602700f4-493e-41c2-a7a7-771fcead57a0"
      },
      "execution_count": null,
      "outputs": [
        {
          "output_type": "execute_result",
          "data": {
            "text/plain": [
              "title              0\n",
              "source_domain    330\n",
              "tweet_num          0\n",
              "real               0\n",
              "dtype: int64"
            ]
          },
          "metadata": {},
          "execution_count": 6
        }
      ]
    },
    {
      "cell_type": "code",
      "source": [
        "df.dropna(axis=0,inplace=True)\n",
        "df"
      ],
      "metadata": {
        "colab": {
          "base_uri": "https://localhost:8080/",
          "height": 423
        },
        "id": "XuG0lUJJM4Yf",
        "outputId": "274d4ba3-d452-4814-dd11-43d973c96ffe"
      },
      "execution_count": null,
      "outputs": [
        {
          "output_type": "execute_result",
          "data": {
            "text/plain": [
              "                                                   title  \\\n",
              "0      Kandi Burruss Explodes Over Rape Accusation on...   \n",
              "1      People's Choice Awards 2018: The best red carp...   \n",
              "2      Sophia Bush Sends Sweet Birthday Message to 'O...   \n",
              "3      Colombian singer Maluma sparks rumours of inap...   \n",
              "4      Gossip Girl 10 Years Later: How Upper East Sid...   \n",
              "...                                                  ...   \n",
              "23191  Pippa Middleton wedding: In case you missed it...   \n",
              "23192  Zayn Malik & Gigi Hadidâ€™s Shocking Split: Wh...   \n",
              "23193  Jessica Chastain Recalls the Moment Her Mother...   \n",
              "23194  Tristan Thompson Feels \"Dumped\" After KhloÃ© K...   \n",
              "23195  Kelly Clarkson Performs a Medley of Kendrick L...   \n",
              "\n",
              "               source_domain  tweet_num  real  \n",
              "0                 toofab.com         42     1  \n",
              "1              www.today.com          0     1  \n",
              "2           www.etonline.com         63     1  \n",
              "3        www.dailymail.co.uk         20     1  \n",
              "4            www.zerchoo.com         38     1  \n",
              "...                      ...        ...   ...  \n",
              "23191      www.express.co.uk         52     1  \n",
              "23192      hollywoodlife.com          7     0  \n",
              "23193      www.justjared.com         26     1  \n",
              "23194  www.intouchweekly.com         24     0  \n",
              "23195      www.billboard.com         85     1  \n",
              "\n",
              "[22866 rows x 4 columns]"
            ],
            "text/html": [
              "\n",
              "  <div id=\"df-4bf12b81-e350-4bd0-bbac-e29b799f4a21\">\n",
              "    <div class=\"colab-df-container\">\n",
              "      <div>\n",
              "<style scoped>\n",
              "    .dataframe tbody tr th:only-of-type {\n",
              "        vertical-align: middle;\n",
              "    }\n",
              "\n",
              "    .dataframe tbody tr th {\n",
              "        vertical-align: top;\n",
              "    }\n",
              "\n",
              "    .dataframe thead th {\n",
              "        text-align: right;\n",
              "    }\n",
              "</style>\n",
              "<table border=\"1\" class=\"dataframe\">\n",
              "  <thead>\n",
              "    <tr style=\"text-align: right;\">\n",
              "      <th></th>\n",
              "      <th>title</th>\n",
              "      <th>source_domain</th>\n",
              "      <th>tweet_num</th>\n",
              "      <th>real</th>\n",
              "    </tr>\n",
              "  </thead>\n",
              "  <tbody>\n",
              "    <tr>\n",
              "      <th>0</th>\n",
              "      <td>Kandi Burruss Explodes Over Rape Accusation on...</td>\n",
              "      <td>toofab.com</td>\n",
              "      <td>42</td>\n",
              "      <td>1</td>\n",
              "    </tr>\n",
              "    <tr>\n",
              "      <th>1</th>\n",
              "      <td>People's Choice Awards 2018: The best red carp...</td>\n",
              "      <td>www.today.com</td>\n",
              "      <td>0</td>\n",
              "      <td>1</td>\n",
              "    </tr>\n",
              "    <tr>\n",
              "      <th>2</th>\n",
              "      <td>Sophia Bush Sends Sweet Birthday Message to 'O...</td>\n",
              "      <td>www.etonline.com</td>\n",
              "      <td>63</td>\n",
              "      <td>1</td>\n",
              "    </tr>\n",
              "    <tr>\n",
              "      <th>3</th>\n",
              "      <td>Colombian singer Maluma sparks rumours of inap...</td>\n",
              "      <td>www.dailymail.co.uk</td>\n",
              "      <td>20</td>\n",
              "      <td>1</td>\n",
              "    </tr>\n",
              "    <tr>\n",
              "      <th>4</th>\n",
              "      <td>Gossip Girl 10 Years Later: How Upper East Sid...</td>\n",
              "      <td>www.zerchoo.com</td>\n",
              "      <td>38</td>\n",
              "      <td>1</td>\n",
              "    </tr>\n",
              "    <tr>\n",
              "      <th>...</th>\n",
              "      <td>...</td>\n",
              "      <td>...</td>\n",
              "      <td>...</td>\n",
              "      <td>...</td>\n",
              "    </tr>\n",
              "    <tr>\n",
              "      <th>23191</th>\n",
              "      <td>Pippa Middleton wedding: In case you missed it...</td>\n",
              "      <td>www.express.co.uk</td>\n",
              "      <td>52</td>\n",
              "      <td>1</td>\n",
              "    </tr>\n",
              "    <tr>\n",
              "      <th>23192</th>\n",
              "      <td>Zayn Malik &amp; Gigi Hadidâ€™s Shocking Split: Wh...</td>\n",
              "      <td>hollywoodlife.com</td>\n",
              "      <td>7</td>\n",
              "      <td>0</td>\n",
              "    </tr>\n",
              "    <tr>\n",
              "      <th>23193</th>\n",
              "      <td>Jessica Chastain Recalls the Moment Her Mother...</td>\n",
              "      <td>www.justjared.com</td>\n",
              "      <td>26</td>\n",
              "      <td>1</td>\n",
              "    </tr>\n",
              "    <tr>\n",
              "      <th>23194</th>\n",
              "      <td>Tristan Thompson Feels \"Dumped\" After KhloÃ© K...</td>\n",
              "      <td>www.intouchweekly.com</td>\n",
              "      <td>24</td>\n",
              "      <td>0</td>\n",
              "    </tr>\n",
              "    <tr>\n",
              "      <th>23195</th>\n",
              "      <td>Kelly Clarkson Performs a Medley of Kendrick L...</td>\n",
              "      <td>www.billboard.com</td>\n",
              "      <td>85</td>\n",
              "      <td>1</td>\n",
              "    </tr>\n",
              "  </tbody>\n",
              "</table>\n",
              "<p>22866 rows × 4 columns</p>\n",
              "</div>\n",
              "      <button class=\"colab-df-convert\" onclick=\"convertToInteractive('df-4bf12b81-e350-4bd0-bbac-e29b799f4a21')\"\n",
              "              title=\"Convert this dataframe to an interactive table.\"\n",
              "              style=\"display:none;\">\n",
              "        \n",
              "  <svg xmlns=\"http://www.w3.org/2000/svg\" height=\"24px\"viewBox=\"0 0 24 24\"\n",
              "       width=\"24px\">\n",
              "    <path d=\"M0 0h24v24H0V0z\" fill=\"none\"/>\n",
              "    <path d=\"M18.56 5.44l.94 2.06.94-2.06 2.06-.94-2.06-.94-.94-2.06-.94 2.06-2.06.94zm-11 1L8.5 8.5l.94-2.06 2.06-.94-2.06-.94L8.5 2.5l-.94 2.06-2.06.94zm10 10l.94 2.06.94-2.06 2.06-.94-2.06-.94-.94-2.06-.94 2.06-2.06.94z\"/><path d=\"M17.41 7.96l-1.37-1.37c-.4-.4-.92-.59-1.43-.59-.52 0-1.04.2-1.43.59L10.3 9.45l-7.72 7.72c-.78.78-.78 2.05 0 2.83L4 21.41c.39.39.9.59 1.41.59.51 0 1.02-.2 1.41-.59l7.78-7.78 2.81-2.81c.8-.78.8-2.07 0-2.86zM5.41 20L4 18.59l7.72-7.72 1.47 1.35L5.41 20z\"/>\n",
              "  </svg>\n",
              "      </button>\n",
              "      \n",
              "  <style>\n",
              "    .colab-df-container {\n",
              "      display:flex;\n",
              "      flex-wrap:wrap;\n",
              "      gap: 12px;\n",
              "    }\n",
              "\n",
              "    .colab-df-convert {\n",
              "      background-color: #E8F0FE;\n",
              "      border: none;\n",
              "      border-radius: 50%;\n",
              "      cursor: pointer;\n",
              "      display: none;\n",
              "      fill: #1967D2;\n",
              "      height: 32px;\n",
              "      padding: 0 0 0 0;\n",
              "      width: 32px;\n",
              "    }\n",
              "\n",
              "    .colab-df-convert:hover {\n",
              "      background-color: #E2EBFA;\n",
              "      box-shadow: 0px 1px 2px rgba(60, 64, 67, 0.3), 0px 1px 3px 1px rgba(60, 64, 67, 0.15);\n",
              "      fill: #174EA6;\n",
              "    }\n",
              "\n",
              "    [theme=dark] .colab-df-convert {\n",
              "      background-color: #3B4455;\n",
              "      fill: #D2E3FC;\n",
              "    }\n",
              "\n",
              "    [theme=dark] .colab-df-convert:hover {\n",
              "      background-color: #434B5C;\n",
              "      box-shadow: 0px 1px 3px 1px rgba(0, 0, 0, 0.15);\n",
              "      filter: drop-shadow(0px 1px 2px rgba(0, 0, 0, 0.3));\n",
              "      fill: #FFFFFF;\n",
              "    }\n",
              "  </style>\n",
              "\n",
              "      <script>\n",
              "        const buttonEl =\n",
              "          document.querySelector('#df-4bf12b81-e350-4bd0-bbac-e29b799f4a21 button.colab-df-convert');\n",
              "        buttonEl.style.display =\n",
              "          google.colab.kernel.accessAllowed ? 'block' : 'none';\n",
              "\n",
              "        async function convertToInteractive(key) {\n",
              "          const element = document.querySelector('#df-4bf12b81-e350-4bd0-bbac-e29b799f4a21');\n",
              "          const dataTable =\n",
              "            await google.colab.kernel.invokeFunction('convertToInteractive',\n",
              "                                                     [key], {});\n",
              "          if (!dataTable) return;\n",
              "\n",
              "          const docLinkHtml = 'Like what you see? Visit the ' +\n",
              "            '<a target=\"_blank\" href=https://colab.research.google.com/notebooks/data_table.ipynb>data table notebook</a>'\n",
              "            + ' to learn more about interactive tables.';\n",
              "          element.innerHTML = '';\n",
              "          dataTable['output_type'] = 'display_data';\n",
              "          await google.colab.output.renderOutput(dataTable, element);\n",
              "          const docLink = document.createElement('div');\n",
              "          docLink.innerHTML = docLinkHtml;\n",
              "          element.appendChild(docLink);\n",
              "        }\n",
              "      </script>\n",
              "    </div>\n",
              "  </div>\n",
              "  "
            ]
          },
          "metadata": {},
          "execution_count": 7
        }
      ]
    },
    {
      "cell_type": "code",
      "source": [
        "source = df['source_domain'].values\n",
        "source"
      ],
      "metadata": {
        "colab": {
          "base_uri": "https://localhost:8080/"
        },
        "id": "R1wI7cL0JCcO",
        "outputId": "a5d70751-fcff-43cf-ce07-f8b479b590b7"
      },
      "execution_count": null,
      "outputs": [
        {
          "output_type": "execute_result",
          "data": {
            "text/plain": [
              "array(['toofab.com', 'www.today.com', 'www.etonline.com', ...,\n",
              "       'www.justjared.com', 'www.intouchweekly.com', 'www.billboard.com'],\n",
              "      dtype=object)"
            ]
          },
          "metadata": {},
          "execution_count": 8
        }
      ]
    },
    {
      "cell_type": "code",
      "source": [
        "source.shape"
      ],
      "metadata": {
        "colab": {
          "base_uri": "https://localhost:8080/"
        },
        "id": "BPr7JM5-MDht",
        "outputId": "e7256d41-0766-4319-cd88-e7ed448d945c"
      },
      "execution_count": null,
      "outputs": [
        {
          "output_type": "execute_result",
          "data": {
            "text/plain": [
              "(22866,)"
            ]
          },
          "metadata": {},
          "execution_count": 9
        }
      ]
    },
    {
      "cell_type": "code",
      "source": [
        "type(source[0])"
      ],
      "metadata": {
        "colab": {
          "base_uri": "https://localhost:8080/"
        },
        "id": "QuGsal7rMW1s",
        "outputId": "b2aa2724-e797-45dd-9c8e-b1025953c981"
      },
      "execution_count": null,
      "outputs": [
        {
          "output_type": "execute_result",
          "data": {
            "text/plain": [
              "str"
            ]
          },
          "metadata": {},
          "execution_count": 10
        }
      ]
    },
    {
      "cell_type": "code",
      "source": [
        "source_breakdown = source\n",
        "for index, words in enumerate(source):\n",
        "  words = words.split(\".\")\n",
        "  for word in words:\n",
        "    if len(word)>3:\n",
        "      main_word = word\n",
        "    else:\n",
        "      pass\n",
        "  source_breakdown[index] = main_word.upper()\n"
      ],
      "metadata": {
        "id": "m5apeXLDJamx"
      },
      "execution_count": null,
      "outputs": []
    },
    {
      "cell_type": "code",
      "source": [
        "source_breakdown.shape"
      ],
      "metadata": {
        "colab": {
          "base_uri": "https://localhost:8080/"
        },
        "id": "iviosL7cJ-4y",
        "outputId": "2f344b4a-e863-4824-dfe6-26c565105b15"
      },
      "execution_count": null,
      "outputs": [
        {
          "output_type": "execute_result",
          "data": {
            "text/plain": [
              "(22866,)"
            ]
          },
          "metadata": {},
          "execution_count": 12
        }
      ]
    },
    {
      "cell_type": "code",
      "source": [
        "source_breakdown"
      ],
      "metadata": {
        "colab": {
          "base_uri": "https://localhost:8080/"
        },
        "id": "NKZJ5DX0KKn6",
        "outputId": "f51a9bf5-b10b-4576-d6e7-937f3a1d2d20"
      },
      "execution_count": null,
      "outputs": [
        {
          "output_type": "execute_result",
          "data": {
            "text/plain": [
              "array(['TOOFAB', 'TODAY', 'ETONLINE', ..., 'JUSTJARED', 'INTOUCHWEEKLY',\n",
              "       'BILLBOARD'], dtype=object)"
            ]
          },
          "metadata": {},
          "execution_count": 13
        }
      ]
    },
    {
      "cell_type": "code",
      "source": [
        "df['source_domain'] = source_breakdown"
      ],
      "metadata": {
        "id": "igufN8fcQVHi"
      },
      "execution_count": null,
      "outputs": []
    },
    {
      "cell_type": "code",
      "source": [
        "title = df['title'].values\n",
        "sentence = title\n",
        "for index, words in enumerate(title):\n",
        "  sentence[index] = words.lower()\n",
        "sentence"
      ],
      "metadata": {
        "colab": {
          "base_uri": "https://localhost:8080/"
        },
        "id": "nIqwxgvyRU4d",
        "outputId": "f93081d6-5809-4069-db2e-87b2d9ae7ddb"
      },
      "execution_count": null,
      "outputs": [
        {
          "output_type": "execute_result",
          "data": {
            "text/plain": [
              "array([\"kandi burruss explodes over rape accusation on 'real housewives of atlanta' reunion (video)\",\n",
              "       \"people's choice awards 2018: the best red carpet looks\",\n",
              "       \"sophia bush sends sweet birthday message to 'one tree hill' co-star hilarie burton: 'breyton 4eva'\",\n",
              "       ...,\n",
              "       \"jessica chastain recalls the moment her mother's boyfriend slapped her: 'i just kicked him in the genitals'\",\n",
              "       'tristan thompson feels \"dumped\" after khloã© kardashian refuses to let him move into la home (exclusive)',\n",
              "       \"kelly clarkson performs a medley of kendrick lamar's 'humble' & more hits at the billboard music awards\"],\n",
              "      dtype=object)"
            ]
          },
          "metadata": {},
          "execution_count": 15
        }
      ]
    },
    {
      "cell_type": "code",
      "source": [
        "df['title'] = sentence\n",
        "df\n"
      ],
      "metadata": {
        "colab": {
          "base_uri": "https://localhost:8080/",
          "height": 423
        },
        "id": "OIxBg5m3RWPb",
        "outputId": "95649c6f-c38c-47c6-fadd-56e07712ad77"
      },
      "execution_count": null,
      "outputs": [
        {
          "output_type": "execute_result",
          "data": {
            "text/plain": [
              "                                                   title  source_domain  \\\n",
              "0      kandi burruss explodes over rape accusation on...         TOOFAB   \n",
              "1      people's choice awards 2018: the best red carp...          TODAY   \n",
              "2      sophia bush sends sweet birthday message to 'o...       ETONLINE   \n",
              "3      colombian singer maluma sparks rumours of inap...      DAILYMAIL   \n",
              "4      gossip girl 10 years later: how upper east sid...        ZERCHOO   \n",
              "...                                                  ...            ...   \n",
              "23191  pippa middleton wedding: in case you missed it...        EXPRESS   \n",
              "23192  zayn malik & gigi hadidâ€™s shocking split: wh...  HOLLYWOODLIFE   \n",
              "23193  jessica chastain recalls the moment her mother...      JUSTJARED   \n",
              "23194  tristan thompson feels \"dumped\" after khloã© k...  INTOUCHWEEKLY   \n",
              "23195  kelly clarkson performs a medley of kendrick l...      BILLBOARD   \n",
              "\n",
              "       tweet_num  real  \n",
              "0             42     1  \n",
              "1              0     1  \n",
              "2             63     1  \n",
              "3             20     1  \n",
              "4             38     1  \n",
              "...          ...   ...  \n",
              "23191         52     1  \n",
              "23192          7     0  \n",
              "23193         26     1  \n",
              "23194         24     0  \n",
              "23195         85     1  \n",
              "\n",
              "[22866 rows x 4 columns]"
            ],
            "text/html": [
              "\n",
              "  <div id=\"df-0b779ec5-aabf-4dc4-a47b-474ae7467b9c\">\n",
              "    <div class=\"colab-df-container\">\n",
              "      <div>\n",
              "<style scoped>\n",
              "    .dataframe tbody tr th:only-of-type {\n",
              "        vertical-align: middle;\n",
              "    }\n",
              "\n",
              "    .dataframe tbody tr th {\n",
              "        vertical-align: top;\n",
              "    }\n",
              "\n",
              "    .dataframe thead th {\n",
              "        text-align: right;\n",
              "    }\n",
              "</style>\n",
              "<table border=\"1\" class=\"dataframe\">\n",
              "  <thead>\n",
              "    <tr style=\"text-align: right;\">\n",
              "      <th></th>\n",
              "      <th>title</th>\n",
              "      <th>source_domain</th>\n",
              "      <th>tweet_num</th>\n",
              "      <th>real</th>\n",
              "    </tr>\n",
              "  </thead>\n",
              "  <tbody>\n",
              "    <tr>\n",
              "      <th>0</th>\n",
              "      <td>kandi burruss explodes over rape accusation on...</td>\n",
              "      <td>TOOFAB</td>\n",
              "      <td>42</td>\n",
              "      <td>1</td>\n",
              "    </tr>\n",
              "    <tr>\n",
              "      <th>1</th>\n",
              "      <td>people's choice awards 2018: the best red carp...</td>\n",
              "      <td>TODAY</td>\n",
              "      <td>0</td>\n",
              "      <td>1</td>\n",
              "    </tr>\n",
              "    <tr>\n",
              "      <th>2</th>\n",
              "      <td>sophia bush sends sweet birthday message to 'o...</td>\n",
              "      <td>ETONLINE</td>\n",
              "      <td>63</td>\n",
              "      <td>1</td>\n",
              "    </tr>\n",
              "    <tr>\n",
              "      <th>3</th>\n",
              "      <td>colombian singer maluma sparks rumours of inap...</td>\n",
              "      <td>DAILYMAIL</td>\n",
              "      <td>20</td>\n",
              "      <td>1</td>\n",
              "    </tr>\n",
              "    <tr>\n",
              "      <th>4</th>\n",
              "      <td>gossip girl 10 years later: how upper east sid...</td>\n",
              "      <td>ZERCHOO</td>\n",
              "      <td>38</td>\n",
              "      <td>1</td>\n",
              "    </tr>\n",
              "    <tr>\n",
              "      <th>...</th>\n",
              "      <td>...</td>\n",
              "      <td>...</td>\n",
              "      <td>...</td>\n",
              "      <td>...</td>\n",
              "    </tr>\n",
              "    <tr>\n",
              "      <th>23191</th>\n",
              "      <td>pippa middleton wedding: in case you missed it...</td>\n",
              "      <td>EXPRESS</td>\n",
              "      <td>52</td>\n",
              "      <td>1</td>\n",
              "    </tr>\n",
              "    <tr>\n",
              "      <th>23192</th>\n",
              "      <td>zayn malik &amp; gigi hadidâ€™s shocking split: wh...</td>\n",
              "      <td>HOLLYWOODLIFE</td>\n",
              "      <td>7</td>\n",
              "      <td>0</td>\n",
              "    </tr>\n",
              "    <tr>\n",
              "      <th>23193</th>\n",
              "      <td>jessica chastain recalls the moment her mother...</td>\n",
              "      <td>JUSTJARED</td>\n",
              "      <td>26</td>\n",
              "      <td>1</td>\n",
              "    </tr>\n",
              "    <tr>\n",
              "      <th>23194</th>\n",
              "      <td>tristan thompson feels \"dumped\" after khloã© k...</td>\n",
              "      <td>INTOUCHWEEKLY</td>\n",
              "      <td>24</td>\n",
              "      <td>0</td>\n",
              "    </tr>\n",
              "    <tr>\n",
              "      <th>23195</th>\n",
              "      <td>kelly clarkson performs a medley of kendrick l...</td>\n",
              "      <td>BILLBOARD</td>\n",
              "      <td>85</td>\n",
              "      <td>1</td>\n",
              "    </tr>\n",
              "  </tbody>\n",
              "</table>\n",
              "<p>22866 rows × 4 columns</p>\n",
              "</div>\n",
              "      <button class=\"colab-df-convert\" onclick=\"convertToInteractive('df-0b779ec5-aabf-4dc4-a47b-474ae7467b9c')\"\n",
              "              title=\"Convert this dataframe to an interactive table.\"\n",
              "              style=\"display:none;\">\n",
              "        \n",
              "  <svg xmlns=\"http://www.w3.org/2000/svg\" height=\"24px\"viewBox=\"0 0 24 24\"\n",
              "       width=\"24px\">\n",
              "    <path d=\"M0 0h24v24H0V0z\" fill=\"none\"/>\n",
              "    <path d=\"M18.56 5.44l.94 2.06.94-2.06 2.06-.94-2.06-.94-.94-2.06-.94 2.06-2.06.94zm-11 1L8.5 8.5l.94-2.06 2.06-.94-2.06-.94L8.5 2.5l-.94 2.06-2.06.94zm10 10l.94 2.06.94-2.06 2.06-.94-2.06-.94-.94-2.06-.94 2.06-2.06.94z\"/><path d=\"M17.41 7.96l-1.37-1.37c-.4-.4-.92-.59-1.43-.59-.52 0-1.04.2-1.43.59L10.3 9.45l-7.72 7.72c-.78.78-.78 2.05 0 2.83L4 21.41c.39.39.9.59 1.41.59.51 0 1.02-.2 1.41-.59l7.78-7.78 2.81-2.81c.8-.78.8-2.07 0-2.86zM5.41 20L4 18.59l7.72-7.72 1.47 1.35L5.41 20z\"/>\n",
              "  </svg>\n",
              "      </button>\n",
              "      \n",
              "  <style>\n",
              "    .colab-df-container {\n",
              "      display:flex;\n",
              "      flex-wrap:wrap;\n",
              "      gap: 12px;\n",
              "    }\n",
              "\n",
              "    .colab-df-convert {\n",
              "      background-color: #E8F0FE;\n",
              "      border: none;\n",
              "      border-radius: 50%;\n",
              "      cursor: pointer;\n",
              "      display: none;\n",
              "      fill: #1967D2;\n",
              "      height: 32px;\n",
              "      padding: 0 0 0 0;\n",
              "      width: 32px;\n",
              "    }\n",
              "\n",
              "    .colab-df-convert:hover {\n",
              "      background-color: #E2EBFA;\n",
              "      box-shadow: 0px 1px 2px rgba(60, 64, 67, 0.3), 0px 1px 3px 1px rgba(60, 64, 67, 0.15);\n",
              "      fill: #174EA6;\n",
              "    }\n",
              "\n",
              "    [theme=dark] .colab-df-convert {\n",
              "      background-color: #3B4455;\n",
              "      fill: #D2E3FC;\n",
              "    }\n",
              "\n",
              "    [theme=dark] .colab-df-convert:hover {\n",
              "      background-color: #434B5C;\n",
              "      box-shadow: 0px 1px 3px 1px rgba(0, 0, 0, 0.15);\n",
              "      filter: drop-shadow(0px 1px 2px rgba(0, 0, 0, 0.3));\n",
              "      fill: #FFFFFF;\n",
              "    }\n",
              "  </style>\n",
              "\n",
              "      <script>\n",
              "        const buttonEl =\n",
              "          document.querySelector('#df-0b779ec5-aabf-4dc4-a47b-474ae7467b9c button.colab-df-convert');\n",
              "        buttonEl.style.display =\n",
              "          google.colab.kernel.accessAllowed ? 'block' : 'none';\n",
              "\n",
              "        async function convertToInteractive(key) {\n",
              "          const element = document.querySelector('#df-0b779ec5-aabf-4dc4-a47b-474ae7467b9c');\n",
              "          const dataTable =\n",
              "            await google.colab.kernel.invokeFunction('convertToInteractive',\n",
              "                                                     [key], {});\n",
              "          if (!dataTable) return;\n",
              "\n",
              "          const docLinkHtml = 'Like what you see? Visit the ' +\n",
              "            '<a target=\"_blank\" href=https://colab.research.google.com/notebooks/data_table.ipynb>data table notebook</a>'\n",
              "            + ' to learn more about interactive tables.';\n",
              "          element.innerHTML = '';\n",
              "          dataTable['output_type'] = 'display_data';\n",
              "          await google.colab.output.renderOutput(dataTable, element);\n",
              "          const docLink = document.createElement('div');\n",
              "          docLink.innerHTML = docLinkHtml;\n",
              "          element.appendChild(docLink);\n",
              "        }\n",
              "      </script>\n",
              "    </div>\n",
              "  </div>\n",
              "  "
            ]
          },
          "metadata": {},
          "execution_count": 16
        }
      ]
    },
    {
      "cell_type": "code",
      "source": [
        "df['content'] = df['source_domain'] + \" \" + df['title']"
      ],
      "metadata": {
        "id": "7BgbrFT475Rt"
      },
      "execution_count": null,
      "outputs": []
    },
    {
      "cell_type": "code",
      "source": [
        "df"
      ],
      "metadata": {
        "colab": {
          "base_uri": "https://localhost:8080/",
          "height": 423
        },
        "id": "wgWZG3Hy-emq",
        "outputId": "dd217ca3-35e1-41e7-dbe6-5f94a2a97be9"
      },
      "execution_count": null,
      "outputs": [
        {
          "output_type": "execute_result",
          "data": {
            "text/plain": [
              "                                                   title  source_domain  \\\n",
              "0      kandi burruss explodes over rape accusation on...         TOOFAB   \n",
              "1      people's choice awards 2018: the best red carp...          TODAY   \n",
              "2      sophia bush sends sweet birthday message to 'o...       ETONLINE   \n",
              "3      colombian singer maluma sparks rumours of inap...      DAILYMAIL   \n",
              "4      gossip girl 10 years later: how upper east sid...        ZERCHOO   \n",
              "...                                                  ...            ...   \n",
              "23191  pippa middleton wedding: in case you missed it...        EXPRESS   \n",
              "23192  zayn malik & gigi hadidâ€™s shocking split: wh...  HOLLYWOODLIFE   \n",
              "23193  jessica chastain recalls the moment her mother...      JUSTJARED   \n",
              "23194  tristan thompson feels \"dumped\" after khloã© k...  INTOUCHWEEKLY   \n",
              "23195  kelly clarkson performs a medley of kendrick l...      BILLBOARD   \n",
              "\n",
              "       tweet_num  real                                            content  \n",
              "0             42     1  TOOFAB kandi burruss explodes over rape accusa...  \n",
              "1              0     1  TODAY people's choice awards 2018: the best re...  \n",
              "2             63     1  ETONLINE sophia bush sends sweet birthday mess...  \n",
              "3             20     1  DAILYMAIL colombian singer maluma sparks rumou...  \n",
              "4             38     1  ZERCHOO gossip girl 10 years later: how upper ...  \n",
              "...          ...   ...                                                ...  \n",
              "23191         52     1  EXPRESS pippa middleton wedding: in case you m...  \n",
              "23192          7     0  HOLLYWOODLIFE zayn malik & gigi hadidâ€™s shoc...  \n",
              "23193         26     1  JUSTJARED jessica chastain recalls the moment ...  \n",
              "23194         24     0  INTOUCHWEEKLY tristan thompson feels \"dumped\" ...  \n",
              "23195         85     1  BILLBOARD kelly clarkson performs a medley of ...  \n",
              "\n",
              "[22866 rows x 5 columns]"
            ],
            "text/html": [
              "\n",
              "  <div id=\"df-8a9e815b-11d2-4bd3-80ff-069f14a0d16c\">\n",
              "    <div class=\"colab-df-container\">\n",
              "      <div>\n",
              "<style scoped>\n",
              "    .dataframe tbody tr th:only-of-type {\n",
              "        vertical-align: middle;\n",
              "    }\n",
              "\n",
              "    .dataframe tbody tr th {\n",
              "        vertical-align: top;\n",
              "    }\n",
              "\n",
              "    .dataframe thead th {\n",
              "        text-align: right;\n",
              "    }\n",
              "</style>\n",
              "<table border=\"1\" class=\"dataframe\">\n",
              "  <thead>\n",
              "    <tr style=\"text-align: right;\">\n",
              "      <th></th>\n",
              "      <th>title</th>\n",
              "      <th>source_domain</th>\n",
              "      <th>tweet_num</th>\n",
              "      <th>real</th>\n",
              "      <th>content</th>\n",
              "    </tr>\n",
              "  </thead>\n",
              "  <tbody>\n",
              "    <tr>\n",
              "      <th>0</th>\n",
              "      <td>kandi burruss explodes over rape accusation on...</td>\n",
              "      <td>TOOFAB</td>\n",
              "      <td>42</td>\n",
              "      <td>1</td>\n",
              "      <td>TOOFAB kandi burruss explodes over rape accusa...</td>\n",
              "    </tr>\n",
              "    <tr>\n",
              "      <th>1</th>\n",
              "      <td>people's choice awards 2018: the best red carp...</td>\n",
              "      <td>TODAY</td>\n",
              "      <td>0</td>\n",
              "      <td>1</td>\n",
              "      <td>TODAY people's choice awards 2018: the best re...</td>\n",
              "    </tr>\n",
              "    <tr>\n",
              "      <th>2</th>\n",
              "      <td>sophia bush sends sweet birthday message to 'o...</td>\n",
              "      <td>ETONLINE</td>\n",
              "      <td>63</td>\n",
              "      <td>1</td>\n",
              "      <td>ETONLINE sophia bush sends sweet birthday mess...</td>\n",
              "    </tr>\n",
              "    <tr>\n",
              "      <th>3</th>\n",
              "      <td>colombian singer maluma sparks rumours of inap...</td>\n",
              "      <td>DAILYMAIL</td>\n",
              "      <td>20</td>\n",
              "      <td>1</td>\n",
              "      <td>DAILYMAIL colombian singer maluma sparks rumou...</td>\n",
              "    </tr>\n",
              "    <tr>\n",
              "      <th>4</th>\n",
              "      <td>gossip girl 10 years later: how upper east sid...</td>\n",
              "      <td>ZERCHOO</td>\n",
              "      <td>38</td>\n",
              "      <td>1</td>\n",
              "      <td>ZERCHOO gossip girl 10 years later: how upper ...</td>\n",
              "    </tr>\n",
              "    <tr>\n",
              "      <th>...</th>\n",
              "      <td>...</td>\n",
              "      <td>...</td>\n",
              "      <td>...</td>\n",
              "      <td>...</td>\n",
              "      <td>...</td>\n",
              "    </tr>\n",
              "    <tr>\n",
              "      <th>23191</th>\n",
              "      <td>pippa middleton wedding: in case you missed it...</td>\n",
              "      <td>EXPRESS</td>\n",
              "      <td>52</td>\n",
              "      <td>1</td>\n",
              "      <td>EXPRESS pippa middleton wedding: in case you m...</td>\n",
              "    </tr>\n",
              "    <tr>\n",
              "      <th>23192</th>\n",
              "      <td>zayn malik &amp; gigi hadidâ€™s shocking split: wh...</td>\n",
              "      <td>HOLLYWOODLIFE</td>\n",
              "      <td>7</td>\n",
              "      <td>0</td>\n",
              "      <td>HOLLYWOODLIFE zayn malik &amp; gigi hadidâ€™s shoc...</td>\n",
              "    </tr>\n",
              "    <tr>\n",
              "      <th>23193</th>\n",
              "      <td>jessica chastain recalls the moment her mother...</td>\n",
              "      <td>JUSTJARED</td>\n",
              "      <td>26</td>\n",
              "      <td>1</td>\n",
              "      <td>JUSTJARED jessica chastain recalls the moment ...</td>\n",
              "    </tr>\n",
              "    <tr>\n",
              "      <th>23194</th>\n",
              "      <td>tristan thompson feels \"dumped\" after khloã© k...</td>\n",
              "      <td>INTOUCHWEEKLY</td>\n",
              "      <td>24</td>\n",
              "      <td>0</td>\n",
              "      <td>INTOUCHWEEKLY tristan thompson feels \"dumped\" ...</td>\n",
              "    </tr>\n",
              "    <tr>\n",
              "      <th>23195</th>\n",
              "      <td>kelly clarkson performs a medley of kendrick l...</td>\n",
              "      <td>BILLBOARD</td>\n",
              "      <td>85</td>\n",
              "      <td>1</td>\n",
              "      <td>BILLBOARD kelly clarkson performs a medley of ...</td>\n",
              "    </tr>\n",
              "  </tbody>\n",
              "</table>\n",
              "<p>22866 rows × 5 columns</p>\n",
              "</div>\n",
              "      <button class=\"colab-df-convert\" onclick=\"convertToInteractive('df-8a9e815b-11d2-4bd3-80ff-069f14a0d16c')\"\n",
              "              title=\"Convert this dataframe to an interactive table.\"\n",
              "              style=\"display:none;\">\n",
              "        \n",
              "  <svg xmlns=\"http://www.w3.org/2000/svg\" height=\"24px\"viewBox=\"0 0 24 24\"\n",
              "       width=\"24px\">\n",
              "    <path d=\"M0 0h24v24H0V0z\" fill=\"none\"/>\n",
              "    <path d=\"M18.56 5.44l.94 2.06.94-2.06 2.06-.94-2.06-.94-.94-2.06-.94 2.06-2.06.94zm-11 1L8.5 8.5l.94-2.06 2.06-.94-2.06-.94L8.5 2.5l-.94 2.06-2.06.94zm10 10l.94 2.06.94-2.06 2.06-.94-2.06-.94-.94-2.06-.94 2.06-2.06.94z\"/><path d=\"M17.41 7.96l-1.37-1.37c-.4-.4-.92-.59-1.43-.59-.52 0-1.04.2-1.43.59L10.3 9.45l-7.72 7.72c-.78.78-.78 2.05 0 2.83L4 21.41c.39.39.9.59 1.41.59.51 0 1.02-.2 1.41-.59l7.78-7.78 2.81-2.81c.8-.78.8-2.07 0-2.86zM5.41 20L4 18.59l7.72-7.72 1.47 1.35L5.41 20z\"/>\n",
              "  </svg>\n",
              "      </button>\n",
              "      \n",
              "  <style>\n",
              "    .colab-df-container {\n",
              "      display:flex;\n",
              "      flex-wrap:wrap;\n",
              "      gap: 12px;\n",
              "    }\n",
              "\n",
              "    .colab-df-convert {\n",
              "      background-color: #E8F0FE;\n",
              "      border: none;\n",
              "      border-radius: 50%;\n",
              "      cursor: pointer;\n",
              "      display: none;\n",
              "      fill: #1967D2;\n",
              "      height: 32px;\n",
              "      padding: 0 0 0 0;\n",
              "      width: 32px;\n",
              "    }\n",
              "\n",
              "    .colab-df-convert:hover {\n",
              "      background-color: #E2EBFA;\n",
              "      box-shadow: 0px 1px 2px rgba(60, 64, 67, 0.3), 0px 1px 3px 1px rgba(60, 64, 67, 0.15);\n",
              "      fill: #174EA6;\n",
              "    }\n",
              "\n",
              "    [theme=dark] .colab-df-convert {\n",
              "      background-color: #3B4455;\n",
              "      fill: #D2E3FC;\n",
              "    }\n",
              "\n",
              "    [theme=dark] .colab-df-convert:hover {\n",
              "      background-color: #434B5C;\n",
              "      box-shadow: 0px 1px 3px 1px rgba(0, 0, 0, 0.15);\n",
              "      filter: drop-shadow(0px 1px 2px rgba(0, 0, 0, 0.3));\n",
              "      fill: #FFFFFF;\n",
              "    }\n",
              "  </style>\n",
              "\n",
              "      <script>\n",
              "        const buttonEl =\n",
              "          document.querySelector('#df-8a9e815b-11d2-4bd3-80ff-069f14a0d16c button.colab-df-convert');\n",
              "        buttonEl.style.display =\n",
              "          google.colab.kernel.accessAllowed ? 'block' : 'none';\n",
              "\n",
              "        async function convertToInteractive(key) {\n",
              "          const element = document.querySelector('#df-8a9e815b-11d2-4bd3-80ff-069f14a0d16c');\n",
              "          const dataTable =\n",
              "            await google.colab.kernel.invokeFunction('convertToInteractive',\n",
              "                                                     [key], {});\n",
              "          if (!dataTable) return;\n",
              "\n",
              "          const docLinkHtml = 'Like what you see? Visit the ' +\n",
              "            '<a target=\"_blank\" href=https://colab.research.google.com/notebooks/data_table.ipynb>data table notebook</a>'\n",
              "            + ' to learn more about interactive tables.';\n",
              "          element.innerHTML = '';\n",
              "          dataTable['output_type'] = 'display_data';\n",
              "          await google.colab.output.renderOutput(dataTable, element);\n",
              "          const docLink = document.createElement('div');\n",
              "          docLink.innerHTML = docLinkHtml;\n",
              "          element.appendChild(docLink);\n",
              "        }\n",
              "      </script>\n",
              "    </div>\n",
              "  </div>\n",
              "  "
            ]
          },
          "metadata": {},
          "execution_count": 18
        }
      ]
    },
    {
      "cell_type": "code",
      "source": [
        "port_stem = PorterStemmer()"
      ],
      "metadata": {
        "id": "qDmjW9qyAd4v"
      },
      "execution_count": null,
      "outputs": []
    },
    {
      "cell_type": "code",
      "source": [
        "def stemming(content):\n",
        "  stemmed_content = re.sub('[^a-zA-Z]',' ', content)\n",
        "  stemmed_content = stemmed_content.lower()\n",
        "  stemmed_content = stemmed_content.split()\n",
        "  stemmed_content = [port_stem.stem(word) for word in stemmed_content if not word in stopwords.words('english')]\n",
        "  stemmed_content = ' '.join(stemmed_content)\n",
        "  return stemmed_content"
      ],
      "metadata": {
        "id": "R3AfURyu-pqG"
      },
      "execution_count": null,
      "outputs": []
    },
    {
      "cell_type": "code",
      "source": [
        "df['content'] = df['content'].apply(stemming)"
      ],
      "metadata": {
        "id": "AWwI__rg_VGV"
      },
      "execution_count": null,
      "outputs": []
    },
    {
      "cell_type": "code",
      "source": [
        "X = df['content'].values\n",
        "Y = df[\"real\"].values"
      ],
      "metadata": {
        "id": "ANOqhypC_ahh"
      },
      "execution_count": null,
      "outputs": []
    },
    {
      "cell_type": "code",
      "source": [
        "print(X)"
      ],
      "metadata": {
        "colab": {
          "base_uri": "https://localhost:8080/"
        },
        "id": "JdxiXHtFA7jv",
        "outputId": "f1da1cd0-0453-457d-8ab4-a78ebffa9dfe"
      },
      "execution_count": null,
      "outputs": [
        {
          "output_type": "stream",
          "name": "stdout",
          "text": [
            "['toofab kandi burruss explod rape accus real housew atlanta reunion video'\n",
            " 'today peopl choic award best red carpet look'\n",
            " 'etonlin sophia bush send sweet birthday messag one tree hill co star hilari burton breyton eva'\n",
            " ...\n",
            " 'justjar jessica chastain recal moment mother boyfriend slap kick genit'\n",
            " 'intouchweekli tristan thompson feel dump khlo kardashian refus let move la home exclus'\n",
            " 'billboard kelli clarkson perform medley kendrick lamar humbl hit billboard music award']\n"
          ]
        }
      ]
    },
    {
      "cell_type": "code",
      "source": [
        "print(Y)"
      ],
      "metadata": {
        "colab": {
          "base_uri": "https://localhost:8080/"
        },
        "id": "lCQAgF5lA9JW",
        "outputId": "b07f49c3-8f19-42e6-db32-ae98549338db"
      },
      "execution_count": null,
      "outputs": [
        {
          "output_type": "stream",
          "name": "stdout",
          "text": [
            "[1 1 1 ... 1 0 1]\n"
          ]
        }
      ]
    },
    {
      "cell_type": "code",
      "source": [
        "vectorizer = vectorizer()\n",
        "vectorizer.fit(X)\n",
        "\n",
        "\n",
        "X = vectorizer.transform(X)"
      ],
      "metadata": {
        "id": "kxGRNf9kBDfv"
      },
      "execution_count": null,
      "outputs": []
    },
    {
      "cell_type": "code",
      "source": [
        "print(X)"
      ],
      "metadata": {
        "colab": {
          "base_uri": "https://localhost:8080/"
        },
        "id": "utF4qfcEBbYV",
        "outputId": "320d13c3-2c06-4587-f1d0-2658c1188049"
      },
      "execution_count": null,
      "outputs": [
        {
          "output_type": "stream",
          "name": "stdout",
          "text": [
            "  (0, 13363)\t0.21203812761532045\n",
            "  (0, 12678)\t0.29134087462425107\n",
            "  (0, 10315)\t0.2550448920621714\n",
            "  (0, 10028)\t0.2319456304144583\n",
            "  (0, 9976)\t0.3028041959510503\n",
            "  (0, 6500)\t0.3884950982846066\n",
            "  (0, 5761)\t0.26172165902104433\n",
            "  (0, 4102)\t0.3559277141062849\n",
            "  (0, 1667)\t0.3884950982846066\n",
            "  (0, 631)\t0.3080431765216314\n",
            "  (0, 58)\t0.26017883817888826\n",
            "  (1, 12644)\t0.37033078915189493\n",
            "  (1, 10095)\t0.38071955109834293\n",
            "  (1, 9244)\t0.23509521161202573\n",
            "  (1, 7262)\t0.33613527689708445\n",
            "  (1, 2165)\t0.42677718909872997\n",
            "  (1, 1871)\t0.39133670467083703\n",
            "  (1, 1074)\t0.34197150666086185\n",
            "  (1, 707)\t0.31212713786930646\n",
            "  (2, 12813)\t0.29962349676709343\n",
            "  (2, 12104)\t0.22928464107281998\n",
            "  (2, 11732)\t0.14635485037129445\n",
            "  (2, 11520)\t0.27983734064437205\n",
            "  (2, 10946)\t0.2617398000090265\n",
            "  (2, 8825)\t0.19958997043069013\n",
            "  :\t:\n",
            "  (22863, 1404)\t0.24754430987928674\n",
            "  (22864, 12848)\t0.2730129928422586\n",
            "  (22864, 12521)\t0.2714036108097896\n",
            "  (22864, 10140)\t0.320374297714775\n",
            "  (22864, 8195)\t0.28370324871300207\n",
            "  (22864, 7066)\t0.3102383863633394\n",
            "  (22864, 6835)\t0.2652149707025506\n",
            "  (22864, 6644)\t0.2885387777327571\n",
            "  (22864, 6514)\t0.1759914832924626\n",
            "  (22864, 6104)\t0.2858364327796481\n",
            "  (22864, 5673)\t0.26386000193581494\n",
            "  (22864, 4292)\t0.2698503163607528\n",
            "  (22864, 4068)\t0.24714134721875267\n",
            "  (22864, 3620)\t0.320374297714775\n",
            "  (22865, 9265)\t0.23686339525578964\n",
            "  (22865, 8266)\t0.2151213528627837\n",
            "  (22865, 7779)\t0.3514623012121529\n",
            "  (22865, 6878)\t0.3010309282403956\n",
            "  (22865, 6599)\t0.3337532995211328\n",
            "  (22865, 6582)\t0.23246687074144987\n",
            "  (22865, 5808)\t0.3835372221719991\n",
            "  (22865, 5631)\t0.2570587472057209\n",
            "  (22865, 2263)\t0.27447164938639196\n",
            "  (22865, 1138)\t0.44252589058447717\n",
            "  (22865, 707)\t0.18356798524074\n"
          ]
        }
      ]
    },
    {
      "cell_type": "code",
      "source": [
        "print(X.shape)"
      ],
      "metadata": {
        "colab": {
          "base_uri": "https://localhost:8080/"
        },
        "id": "jOtF0gTEBehI",
        "outputId": "997f6cd1-599c-444f-ec2b-43a4b8b7554e"
      },
      "execution_count": null,
      "outputs": [
        {
          "output_type": "stream",
          "name": "stdout",
          "text": [
            "(22866, 14098)\n"
          ]
        }
      ]
    },
    {
      "cell_type": "code",
      "source": [
        "mean = X.mean()\n",
        "max = X.max()\n",
        "mean = np.full((22866, 14098),mean)\n",
        "max = np.full((22866, 14098),max)\n",
        "\n",
        "\n",
        "\n",
        "X1 = (X - mean)\n"
      ],
      "metadata": {
        "id": "hgmas4DlCqGK"
      },
      "execution_count": null,
      "outputs": []
    },
    {
      "cell_type": "code",
      "source": [
        "X1 = X1/max"
      ],
      "metadata": {
        "id": "kEpHTNJJGt8H"
      },
      "execution_count": null,
      "outputs": []
    },
    {
      "cell_type": "code",
      "source": [
        "X2 = df['tweet_num'].values\n",
        "mean = X2.mean()\n",
        "max = X2.max()\n",
        "mean =mean = np.full((22866),mean)\n",
        "max = np.full((22866),max)\n",
        "X2 = X2 - mean"
      ],
      "metadata": {
        "id": "u5j9sspbG3Px"
      },
      "execution_count": null,
      "outputs": []
    },
    {
      "cell_type": "code",
      "source": [
        "X2 = X2/max"
      ],
      "metadata": {
        "id": "ywoOZ7emHehx"
      },
      "execution_count": null,
      "outputs": []
    },
    {
      "cell_type": "code",
      "source": [
        "print(X1.shape)"
      ],
      "metadata": {
        "colab": {
          "base_uri": "https://localhost:8080/"
        },
        "id": "eVAlXUtcHxUy",
        "outputId": "61948e13-88fe-43c6-c89a-54e02ceabf10"
      },
      "execution_count": null,
      "outputs": [
        {
          "output_type": "stream",
          "name": "stdout",
          "text": [
            "(22866, 14098)\n"
          ]
        }
      ]
    },
    {
      "cell_type": "markdown",
      "source": [
        "splitting dataset to test and train"
      ],
      "metadata": {
        "id": "isAb9UTHCUaQ"
      }
    },
    {
      "cell_type": "code",
      "source": [
        "print(X2)\n",
        "X2  = X2.reshape(-1,1)"
      ],
      "metadata": {
        "colab": {
          "base_uri": "https://localhost:8080/"
        },
        "id": "XNUN2JvdHz5r",
        "outputId": "57b7a1ae-ffef-4ab7-ce33-988fc316a19a"
      },
      "execution_count": null,
      "outputs": [
        {
          "output_type": "stream",
          "name": "stdout",
          "text": [
            "[-0.00159666 -0.00304194 -0.00087401 ... -0.00214724 -0.00221606\n",
            " -0.00011696]\n"
          ]
        }
      ]
    },
    {
      "cell_type": "code",
      "source": [
        "X = np.concatenate((X1,X2),axis =1)\n",
        "\n",
        "\n",
        "X= np.asarray(X)\n"
      ],
      "metadata": {
        "id": "_h6qiPCLIZ97"
      },
      "execution_count": null,
      "outputs": []
    },
    {
      "cell_type": "code",
      "source": [
        "X_train,X_test,Y_train,Y_test = train_test_split(X,Y, test_size=0.2, stratify=Y)"
      ],
      "metadata": {
        "id": "bhbJl8tnBj2A"
      },
      "execution_count": null,
      "outputs": []
    },
    {
      "cell_type": "markdown",
      "source": [
        "Building Model"
      ],
      "metadata": {
        "id": "soonRaIDCZuQ"
      }
    },
    {
      "cell_type": "code",
      "source": [
        "model = LogisticRegression()\n",
        "lreg = model.fit(X_train,Y_train)\n"
      ],
      "metadata": {
        "id": "sqnXe3j9gNoA"
      },
      "execution_count": null,
      "outputs": []
    },
    {
      "cell_type": "markdown",
      "source": [
        "testing Model"
      ],
      "metadata": {
        "id": "ffa6z4k3CeWg"
      }
    },
    {
      "cell_type": "code",
      "source": [
        "# accuracy score on the training error\n",
        "Y_train_pred= model.predict(X_train)\n",
        "training_data_accuracy = accuracy_score(Y_train_pred,Y_train)"
      ],
      "metadata": {
        "id": "h-fCYpOxB5Zq"
      },
      "execution_count": null,
      "outputs": []
    },
    {
      "cell_type": "code",
      "source": [
        "print(\"Accuracy score on training data is:\\n\", training_data_accuracy)"
      ],
      "metadata": {
        "colab": {
          "base_uri": "https://localhost:8080/"
        },
        "id": "vAEfnQzjB-KI",
        "outputId": "dcb72675-3672-41e7-881a-53f688799c0c"
      },
      "execution_count": null,
      "outputs": [
        {
          "output_type": "stream",
          "name": "stdout",
          "text": [
            "Accuracy score on training data is:\n",
            " 0.8792914935490925\n"
          ]
        }
      ]
    },
    {
      "cell_type": "code",
      "source": [
        "Y_test_pred = model.predict(X_test)\n",
        "test_data_accuracy = accuracy_score(Y_test_pred,Y_test)"
      ],
      "metadata": {
        "id": "UWGfdi9zCCZO"
      },
      "execution_count": null,
      "outputs": []
    },
    {
      "cell_type": "code",
      "source": [
        "print(\"Accuracy on test data is :\\n\", test_data_accuracy)"
      ],
      "metadata": {
        "colab": {
          "base_uri": "https://localhost:8080/"
        },
        "id": "zyDvcJTGCIJm",
        "outputId": "0c519df7-4fdd-478d-ff20-d94f7306eebd"
      },
      "execution_count": null,
      "outputs": [
        {
          "output_type": "stream",
          "name": "stdout",
          "text": [
            "Accuracy on test data is :\n",
            " 0.8618277219064276\n"
          ]
        }
      ]
    },
    {
      "cell_type": "code",
      "source": [],
      "metadata": {
        "id": "Ss7DzvKrfQUg"
      },
      "execution_count": null,
      "outputs": []
    }
  ]
}